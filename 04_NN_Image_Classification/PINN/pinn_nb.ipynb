{
 "cells": [
  {
   "cell_type": "markdown",
   "metadata": {},
   "source": [
    "# Physics-Based Neural Networks for Planetary Science: A Tutorial"
   ]
  },
  {
   "cell_type": "markdown",
   "metadata": {},
   "source": [
    "# Introduction\n",
    "This tutorial demonstrates how to apply **Physics-Informed Neural Networks (PINNs)** to a planetary science problem. Specifically, we will solve a heat conduction problem in a planetary crust. PINNs combine physical laws (expressed as partial differential equations, PDEs) with data-driven machine learning.\n",
    "\n",
    "# Objectives\n",
    "1. Model heat conduction in a planetary crust using PINNs.\n",
    "2. Understand how physical constraints are embedded in a neural network.\n",
    "3. Apply the trained PINN to predict temperature profiles in a realistic planetary setting."
   ]
  },
  {
   "cell_type": "code",
   "execution_count": 1,
   "metadata": {},
   "outputs": [],
   "source": [
    "# Import Libraries\n",
    "import numpy as np\n",
    "import tensorflow as tf\n",
    "import matplotlib.pyplot as plt\n",
    "from scipy.integrate import solve_ivp\n",
    "from scipy.special import erf"
   ]
  },
  {
   "cell_type": "markdown",
   "metadata": {},
   "source": [
    "# Define the Heat Conduction Problem\n",
    "Heat conduction in a 1D planetary crust is governed by:  \n",
    "$$ \\frac{\\partial T}{\\partial t} = \\alpha \\frac{\\partial^2 T}{\\partial x^2} $$\n",
    "\n",
    "where:\n",
    "- $T$ is temperature (K),\n",
    "- $\\alpha$ is thermal diffusivity $(m^2/s)$,\n",
    "- $x$ is depth (m),\n",
    "- $t$ is time (s)."
   ]
  },
  {
   "cell_type": "code",
   "execution_count": 2,
   "metadata": {},
   "outputs": [],
   "source": [
    "# Define Physical Constants\n",
    "\n",
    "# Thermal diffusivity (m^2/s)\n",
    "alpha = 1e-6\n",
    "\n",
    "# Spatial domain (depth, in meters)\n",
    "x_min, x_max = 0, 1000\n",
    "\n",
    "# Time domain (in seconds)\n",
    "t_min, t_max = 0, 1e6"
   ]
  },
  {
   "cell_type": "markdown",
   "metadata": {},
   "source": [
    "# Generate Training Data\n",
    "We will generate synthetic temperature data for training using an analytical solution to the heat equation:\n",
    "$$ T(x, t) = T_0 + (T_s - T_0) \\text{erf}\\left( \\frac{x}{2\\sqrt{\\alpha t}} \\right) $$"
   ]
  },
  {
   "cell_type": "code",
   "execution_count": 18,
   "metadata": {},
   "outputs": [
    {
     "data": {
      "text/plain": [
       "Text(0.5, 1.0, 'Training Data')"
      ]
     },
     "execution_count": 18,
     "metadata": {},
     "output_type": "execute_result"
    },
    {
     "data": {
      "image/png": "[encoded data removed]",
      "text/plain": [
       "<Figure size 800x600 with 1 Axes>"
      ]
     },
     "metadata": {},
     "output_type": "display_data"
    }
   ],
   "source": [
    "def generate_training_data(n_points=500):\n",
    "    \"\"\"Generate synthetic data for training.\"\"\"\n",
    "    x = np.random.uniform(x_min, x_max, n_points)\n",
    "    t = np.random.uniform(t_min, t_max, n_points)\n",
    "    \n",
    "    T_0 = 500  # Initial temperature (K)\n",
    "    T_s = 300   # Surface temperature (K)\n",
    "    \n",
    "    T = T_s + (T_0 - T_s) * erf(x / (2 * np.sqrt(alpha * t)))\n",
    "    \n",
    "    return x, t, T\n",
    "\n",
    "x_train, t_train, T_train = generate_training_data()\n",
    "\n",
    "# Plot the training data\n",
    "plt.figure(figsize=(8, 6))\n",
    "plt.scatter(x_train, T_train)\n",
    "# plt.yscale('log')\n",
    "plt.xscale('log')\n",
    "plt.xlabel('Depth (m)')\n",
    "plt.ylabel('Temperature (K)')\n",
    "plt.title('Training Data')\n"
   ]
  },
  {
   "cell_type": "markdown",
   "metadata": {},
   "source": [
    "# PINN Model\n",
    "Define a neural network that predicts temperature $T(x, t)$ and embeds the heat conduction equation as a constraint."
   ]
  },
  {
   "cell_type": "code",
   "execution_count": 20,
   "metadata": {},
   "outputs": [
    {
     "data": {
      "text/html": [
       "<pre style=\"white-space:pre;overflow-x:auto;line-height:normal;font-family:Menlo,'DejaVu Sans Mono',consolas,'Courier New',monospace\"><span style=\"font-weight: bold\">Model: \"functional_1\"</span>\n",
       "</pre>\n"
      ],
      "text/plain": [
       "\u001b[1mModel: \"functional_1\"\u001b[0m\n"
      ]
     },
     "metadata": {},
     "output_type": "display_data"
    },
    {
     "data": {
      "text/html": [
       "<pre style=\"white-space:pre;overflow-x:auto;line-height:normal;font-family:Menlo,'DejaVu Sans Mono',consolas,'Courier New',monospace\">┏━━━━━━━━━━━━━━━━━━━━━━━━━━━━━━━━━┳━━━━━━━━━━━━━━━━━━━━━━━━┳━━━━━━━━━━━━━━━┓\n",
       "┃<span style=\"font-weight: bold\"> Layer (type)                    </span>┃<span style=\"font-weight: bold\"> Output Shape           </span>┃<span style=\"font-weight: bold\">       Param # </span>┃\n",
       "┡━━━━━━━━━━━━━━━━━━━━━━━━━━━━━━━━━╇━━━━━━━━━━━━━━━━━━━━━━━━╇━━━━━━━━━━━━━━━┩\n",
       "│ input_layer_1 (<span style=\"color: #0087ff; text-decoration-color: #0087ff\">InputLayer</span>)      │ (<span style=\"color: #00d7ff; text-decoration-color: #00d7ff\">None</span>, <span style=\"color: #00af00; text-decoration-color: #00af00\">2</span>)              │             <span style=\"color: #00af00; text-decoration-color: #00af00\">0</span> │\n",
       "├─────────────────────────────────┼────────────────────────┼───────────────┤\n",
       "│ dense_3 (<span style=\"color: #0087ff; text-decoration-color: #0087ff\">Dense</span>)                 │ (<span style=\"color: #00d7ff; text-decoration-color: #00d7ff\">None</span>, <span style=\"color: #00af00; text-decoration-color: #00af00\">64</span>)             │           <span style=\"color: #00af00; text-decoration-color: #00af00\">192</span> │\n",
       "├─────────────────────────────────┼────────────────────────┼───────────────┤\n",
       "│ dense_4 (<span style=\"color: #0087ff; text-decoration-color: #0087ff\">Dense</span>)                 │ (<span style=\"color: #00d7ff; text-decoration-color: #00d7ff\">None</span>, <span style=\"color: #00af00; text-decoration-color: #00af00\">64</span>)             │         <span style=\"color: #00af00; text-decoration-color: #00af00\">4,160</span> │\n",
       "├─────────────────────────────────┼────────────────────────┼───────────────┤\n",
       "│ dense_5 (<span style=\"color: #0087ff; text-decoration-color: #0087ff\">Dense</span>)                 │ (<span style=\"color: #00d7ff; text-decoration-color: #00d7ff\">None</span>, <span style=\"color: #00af00; text-decoration-color: #00af00\">1</span>)              │            <span style=\"color: #00af00; text-decoration-color: #00af00\">65</span> │\n",
       "└─────────────────────────────────┴────────────────────────┴───────────────┘\n",
       "</pre>\n"
      ],
      "text/plain": [
       "┏━━━━━━━━━━━━━━━━━━━━━━━━━━━━━━━━━┳━━━━━━━━━━━━━━━━━━━━━━━━┳━━━━━━━━━━━━━━━┓\n",
       "┃\u001b[1m \u001b[0m\u001b[1mLayer (type)                   \u001b[0m\u001b[1m \u001b[0m┃\u001b[1m \u001b[0m\u001b[1mOutput Shape          \u001b[0m\u001b[1m \u001b[0m┃\u001b[1m \u001b[0m\u001b[1m      Param #\u001b[0m\u001b[1m \u001b[0m┃\n",
       "┡━━━━━━━━━━━━━━━━━━━━━━━━━━━━━━━━━╇━━━━━━━━━━━━━━━━━━━━━━━━╇━━━━━━━━━━━━━━━┩\n",
       "│ input_layer_1 (\u001b[38;5;33mInputLayer\u001b[0m)      │ (\u001b[38;5;45mNone\u001b[0m, \u001b[38;5;34m2\u001b[0m)              │             \u001b[38;5;34m0\u001b[0m │\n",
       "├─────────────────────────────────┼────────────────────────┼───────────────┤\n",
       "│ dense_3 (\u001b[38;5;33mDense\u001b[0m)                 │ (\u001b[38;5;45mNone\u001b[0m, \u001b[38;5;34m64\u001b[0m)             │           \u001b[38;5;34m192\u001b[0m │\n",
       "├─────────────────────────────────┼────────────────────────┼───────────────┤\n",
       "│ dense_4 (\u001b[38;5;33mDense\u001b[0m)                 │ (\u001b[38;5;45mNone\u001b[0m, \u001b[38;5;34m64\u001b[0m)             │         \u001b[38;5;34m4,160\u001b[0m │\n",
       "├─────────────────────────────────┼────────────────────────┼───────────────┤\n",
       "│ dense_5 (\u001b[38;5;33mDense\u001b[0m)                 │ (\u001b[38;5;45mNone\u001b[0m, \u001b[38;5;34m1\u001b[0m)              │            \u001b[38;5;34m65\u001b[0m │\n",
       "└─────────────────────────────────┴────────────────────────┴───────────────┘\n"
      ]
     },
     "metadata": {},
     "output_type": "display_data"
    },
    {
     "data": {
      "text/html": [
       "<pre style=\"white-space:pre;overflow-x:auto;line-height:normal;font-family:Menlo,'DejaVu Sans Mono',consolas,'Courier New',monospace\"><span style=\"font-weight: bold\"> Total params: </span><span style=\"color: #00af00; text-decoration-color: #00af00\">4,417</span> (17.25 KB)\n",
       "</pre>\n"
      ],
      "text/plain": [
       "\u001b[1m Total params: \u001b[0m\u001b[38;5;34m4,417\u001b[0m (17.25 KB)\n"
      ]
     },
     "metadata": {},
     "output_type": "display_data"
    },
    {
     "data": {
      "text/html": [
       "<pre style=\"white-space:pre;overflow-x:auto;line-height:normal;font-family:Menlo,'DejaVu Sans Mono',consolas,'Courier New',monospace\"><span style=\"font-weight: bold\"> Trainable params: </span><span style=\"color: #00af00; text-decoration-color: #00af00\">4,417</span> (17.25 KB)\n",
       "</pre>\n"
      ],
      "text/plain": [
       "\u001b[1m Trainable params: \u001b[0m\u001b[38;5;34m4,417\u001b[0m (17.25 KB)\n"
      ]
     },
     "metadata": {},
     "output_type": "display_data"
    },
    {
     "data": {
      "text/html": [
       "<pre style=\"white-space:pre;overflow-x:auto;line-height:normal;font-family:Menlo,'DejaVu Sans Mono',consolas,'Courier New',monospace\"><span style=\"font-weight: bold\"> Non-trainable params: </span><span style=\"color: #00af00; text-decoration-color: #00af00\">0</span> (0.00 B)\n",
       "</pre>\n"
      ],
      "text/plain": [
       "\u001b[1m Non-trainable params: \u001b[0m\u001b[38;5;34m0\u001b[0m (0.00 B)\n"
      ]
     },
     "metadata": {},
     "output_type": "display_data"
    }
   ],
   "source": [
    "def build_model():\n",
    "    \"\"\"Build the neural network model.\"\"\"\n",
    "    inputs = tf.keras.Input(shape=(2,))  # Inputs: (x, t)\n",
    "    x = tf.keras.layers.Dense(64, activation='swish')(inputs)\n",
    "    x = tf.keras.layers.Dense(64, activation='swish')(x)\n",
    "    outputs = tf.keras.layers.Dense(1)(x)  # Output: T\n",
    "    return tf.keras.Model(inputs, outputs)\n",
    "\n",
    "model = build_model()\n",
    "model.summary()"
   ]
  },
  {
   "cell_type": "markdown",
   "metadata": {},
   "source": [
    "# Physics-Informed Loss Function\n",
    "The loss function has two components:\n",
    "1. **Data Loss**: Measures the error between predicted and observed temperature.\n",
    "2. **Physics Loss**: Ensures the network satisfies the heat equation."
   ]
  },
  {
   "cell_type": "code",
   "execution_count": 21,
   "metadata": {},
   "outputs": [],
   "source": [
    "def physics_loss(x, t):\n",
    "    \"\"\"Compute the physics loss based on the heat equation.\"\"\"\n",
    "    with tf.GradientTape(persistent=True) as tape:\n",
    "        tape.watch([x, t])\n",
    "        T = model(tf.concat([x, t], axis=1))  # Predicted temperature\n",
    "\n",
    "        # Gradients\n",
    "        T_x = tape.gradient(T, x)\n",
    "        T_t = tape.gradient(T, t)\n",
    "        T_xx = tape.gradient(T_x, x)\n",
    "\n",
    "    del tape\n",
    "    \n",
    "    # Heat equation residual\n",
    "    residual = T_t - alpha * T_xx\n",
    "    return tf.reduce_mean(tf.square(residual))\n",
    "\n",
    "def combined_loss(x, t, T_true):\n",
    "    \"\"\"Combine data and physics losses.\"\"\"\n",
    "    T_pred = model(tf.concat([x, t], axis=1))\n",
    "    data_loss = tf.reduce_mean(tf.square(T_true - T_pred))\n",
    "    phys_loss = physics_loss(x, t)\n",
    "    return data_loss + phys_loss"
   ]
  },
  {
   "cell_type": "markdown",
   "metadata": {},
   "source": [
    "# Training the PINN"
   ]
  },
  {
   "cell_type": "code",
   "execution_count": null,
   "metadata": {},
   "outputs": [
    {
     "name": "stdout",
     "output_type": "stream",
     "text": [
      "WARNING:tensorflow:Calling GradientTape.gradient on a persistent tape inside its context is significantly less efficient than calling it outside the context (it causes the gradient ops to be recorded on the tape, leading to increased CPU and memory usage). Only call GradientTape.gradient inside the context if you actually want to trace the gradient in order to compute higher order derivatives.\n",
      "Epoch 0, Loss: 125270864.0\n",
      "Epoch 500, Loss: 27983.1796875\n",
      "Epoch 1000, Loss: 37304.828125\n",
      "Epoch 1500, Loss: 220046.265625\n",
      "Epoch 2000, Loss: 315585.21875\n",
      "Epoch 2500, Loss: 43258.375\n",
      "Epoch 3000, Loss: 322354.84375\n",
      "Epoch 3500, Loss: 217601.96875\n",
      "Epoch 4000, Loss: 106023.6796875\n",
      "Epoch 4500, Loss: 218815.296875\n"
     ]
    }
   ],
   "source": [
    "# Training the PINN\n",
    "optimizer = tf.keras.optimizers.Adam(learning_rate=0.001)\n",
    "\n",
    "@tf.function\n",
    "def train_step(x, t, T_true):\n",
    "    with tf.GradientTape() as tape:\n",
    "        loss = combined_loss(x, t, T_true)\n",
    "    grads = tape.gradient(loss, model.trainable_variables)\n",
    "    optimizer.apply_gradients(zip(grads, model.trainable_variables))\n",
    "    return loss\n",
    "\n",
    "# Train the model\n",
    "n_epochs = 5001\n",
    "for epoch in range(n_epochs):\n",
    "    x_batch = tf.convert_to_tensor(x_train.reshape(-1, 1), dtype=tf.float32)\n",
    "    t_batch = tf.convert_to_tensor(t_train.reshape(-1, 1), dtype=tf.float32)\n",
    "    T_batch = tf.convert_to_tensor(T_train.reshape(-1, 1), dtype=tf.float32)\n",
    "\n",
    "    loss = train_step(x_batch, t_batch, T_batch)\n",
    "\n",
    "    if epoch % 500 == 0:\n",
    "        print(f\"Epoch {epoch}, Loss: {loss.numpy()}\")"
   ]
  },
  {
   "cell_type": "markdown",
   "metadata": {},
   "source": [
    "# Evaluate the Model"
   ]
  },
  {
   "cell_type": "code",
   "execution_count": 25,
   "metadata": {},
   "outputs": [
    {
     "name": "stdout",
     "output_type": "stream",
     "text": [
      "\u001b[1m4/4\u001b[0m \u001b[32m━━━━━━━━━━━━━━━━━━━━\u001b[0m\u001b[37m\u001b[0m \u001b[1m0s\u001b[0m 1ms/step\n"
     ]
    },
    {
     "data": {
      "image/png": "[encoded data removed]",
      "text/plain": [
       "<Figure size 640x480 with 1 Axes>"
      ]
     },
     "metadata": {},
     "output_type": "display_data"
    }
   ],
   "source": [
    "# Predict temperature profiles and compare with the analytical solution.\n",
    "# Test data\n",
    "x_test = np.linspace(x_min, x_max, 100)\n",
    "t_test = np.full_like(x_test, t_max / 2)\n",
    "\n",
    "# Predict\n",
    "x_tensor = tf.convert_to_tensor(x_test.reshape(-1, 1), dtype=tf.float32)\n",
    "t_tensor = tf.convert_to_tensor(t_test.reshape(-1, 1), dtype=tf.float32)\n",
    "T_pred = model.predict(tf.concat([x_tensor, t_tensor], axis=1))\n",
    "\n",
    "# Analytical solution\n",
    "T_true = 300 + (500 - 300) * erf(x_test / (2 * np.sqrt(alpha * (t_max / 2))))\n",
    "\n",
    "# Plot results\n",
    "plt.plot(x_test, T_true, label='Analytical Solution')\n",
    "plt.plot(x_test, T_pred, '--', label='PINN Prediction')\n",
    "plt.xlabel('Depth (m)')\n",
    "plt.ylabel('Temperature (K)')\n",
    "plt.legend()\n",
    "plt.show()\n"
   ]
  },
  {
   "cell_type": "markdown",
   "metadata": {},
   "source": [
    "# Conclusion\n",
    "In this tutorial, we demonstrated how to build and train a PINN to solve a heat conduction problem in a planetary crust. By combining physics-based constraints with data-driven learning, PINNs provide a powerful framework for planetary science applications.\n"
   ]
  },
  {
   "cell_type": "markdown",
   "metadata": {},
   "source": []
  }
 ],
 "metadata": {
  "kernelspec": {
   "display_name": "cnn",
   "language": "python",
   "name": "python3"
  },
  "language_info": {
   "codemirror_mode": {
    "name": "ipython",
    "version": 3
   },
   "file_extension": ".py",
   "mimetype": "text/x-python",
   "name": "python",
   "nbconvert_exporter": "python",
   "pygments_lexer": "ipython3",
   "version": "3.12.6"
  }
 },
 "nbformat": 4,
 "nbformat_minor": 2
}
