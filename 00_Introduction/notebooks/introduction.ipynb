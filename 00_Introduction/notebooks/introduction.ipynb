{
 "cells": [
  {
   "cell_type": "markdown",
   "metadata": {},
   "source": [
    "# Introduction to AI and ML in Planetary Science\n",
    "In this course we will provide a set of programmtic tools to help you use machine learning and artificial intelligence in your research. While we will touch on underlying concepts and theories, the intention of this course is to facilitate practical application of these tools. \n",
    "\n",
    "## Schedule and Topics Covered\n",
    "| Week     | Topic                                |\n",
    "|----------|--------------------------------------|\n",
    "|  2 – 3   | Large Language Models                |\n",
    "|  4 – 5   | Curve Fitting Techniques             |\n",
    "|  6 – 7   | Classification Techniques            |\n",
    "|  8 – 11  | Image Classification and Segmentation|\n",
    "|  12 – 13 | Case Studies and Practical Application|\n",
    "| 14       | Recap and Working Session            |\n",
    "\n",
    "### Online resources for further learning:\n",
    "[Neural Networks and Deep Learning](http://neuralnetworksanddeeplearning.com/index.html)  \n",
    "[Goodfellow et al 2016 Deep Learning](https://www.deeplearningbook.org)"
   ]
  },
  {
   "cell_type": "markdown",
   "metadata": {},
   "source": [
    "# Artificial Intelligence, Machine Learning, and Deep Learning\n",
    "![Diagram](/Users/phillipsm/Documents/Teaching/AI_in_PlanetaryXXX/Code/00_Introduction/files/DL_ML_AI_diagram.png)\n",
    "\n",
    "\n",
    "Deep learning (DL) is a subset of machine learning (ML), and machine learning is a subset of artificial intelligence (AI).  \n",
    "\n",
    "![Table](/Users/phillipsm/Documents/Teaching/AI_in_PlanetaryXXX/Code/00_Introduction/files/DL_ML_AI_table.png)\n",
    "\n",
    "## A brief history\n",
    "AI is the broadest category with many definitions. The earliest conceptions of \"artficial intellegince\" date back to at least the ancient Greeks, with references to \"automatons\" appearing in [Homer](https://en.wikipedia.org/wiki/Talos). 17<sup>th</sup> century philosophers like Descartes and Hobbes proposed mechanistic views of thought, suggesting living things can be explained entirely by \"pysical and chemical facts\". Alan Turing ushered in modern conceptions of intelligent machines with his 1936 paper, \"On Computable Numbers\" and the famous \"Turing Test\". It wasn't until 1956 that \"Artificial Intelligence\" was first coined by John McCarthy, who was among the earliest AI researchers seeking to simulate human reasoning and problem-solving using computation. Early AI research focused on rules-based systems and logic, although foundational concepts for machine learning and neural networks were being laid. The 1970's and 1980's are sometimes considered the \"AI Winter\" because funding for this research receded as progress was limited by computational power.\n",
    "## Machine Learning\n",
    "In the 1990's, data-driven machine learning approaches took off. Machine learning models learn from and make predictions or decisions based on data without being explicitly programmed to perform specific tasks. ML models \"learn\" patterns from data, and use those learned patterns to classify new data and make predictions or decisions. There are three broad categories of ML models:\n",
    "| *Category* | *Definition* | *Example* | \n",
    "|------------|--------------|-----------|\n",
    "|Supervised Learning | learning from labeled data | K-nearest neighbor |\n",
    "|Unsupervised Learning | discovering patterns in unlabeled data | K-means clustering | \n",
    "|Reinforcement Learning | learning through interaction, maxmizing cumulative rewards | Q-learning |\n",
    "## Deep Learning\n",
    "There is no hard, technical boundary between machine learning and deep learning - the distinction is more of a continuum. When people talk about DL instead of ML, it's usually meant to refer to neural networks with many layers. DL excels at solving highly complex problems in domains like image recognition, natural language processing, speech recognition, and generative tasks. Usually large amounts of data are necessary to make DL models effective. \n",
    "## AI but not ML\n",
    "Other types of models exist that can be considered AI models, but are not machine learning because they do not involve data-driven learning. IBM's \"Deep Blue\" is an example of an \"expert system\" - a system composed of rules-based algorithms (basically many if-then statements) defined by experts that rely on brute-force search. The [Tetracorder](https://www.psi.edu/research/tetracorder-project/) model is another expert system used in spectroscopic analysis. These systems work by making decisions based on input values; for example IF a spectrum has a doublet feature at 2.1 µm AND a feature at 1.9 µm THEN it is kaolinite. These rules are top-down defined by experts ahead of time, limiting the general utility of them.\n"
   ]
  },
  {
   "cell_type": "code",
   "execution_count": null,
   "metadata": {
    "vscode": {
     "languageId": "markdown"
    }
   },
   "outputs": [],
   "source": []
  },
  {
   "cell_type": "code",
   "execution_count": null,
   "metadata": {},
   "outputs": [],
   "source": []
  }
 ],
 "metadata": {
  "kernelspec": {
   "display_name": "cnn",
   "language": "python",
   "name": "python3"
  },
  "language_info": {
   "codemirror_mode": {
    "name": "ipython",
    "version": 3
   },
   "file_extension": ".py",
   "mimetype": "text/x-python",
   "name": "python",
   "nbconvert_exporter": "python",
   "pygments_lexer": "ipython3",
   "version": "3.12.3"
  }
 },
 "nbformat": 4,
 "nbformat_minor": 2
}
